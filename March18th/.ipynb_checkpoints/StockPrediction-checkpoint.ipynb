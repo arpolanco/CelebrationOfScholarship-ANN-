{
 "cells": [
  {
   "cell_type": "code",
   "execution_count": 2,
   "metadata": {
    "collapsed": false
   },
   "outputs": [
    {
     "name": "stdout",
     "output_type": "stream",
     "text": [
      "GOOG\n",
      "AAPL\n"
     ]
    }
   ],
   "source": [
    "import dataPreparation\n",
    "import datetime\n",
    "\n",
    "start = datetime.datetime(2016,1,1)\n",
    "end = datetime.date.today()\n",
    "symList = [\"AAPL\", \"GOOG\"]\n",
    "dataDict = dataPreparation.getDataForSymbolList(symList, start, end)\n",
    "print(dataPreparation.formatForTraining(dataDict, start, end, 10))\n",
    "for key in dataDict:\n",
    "    print(key)"
   ]
  },
  {
   "cell_type": "code",
   "execution_count": null,
   "metadata": {
    "collapsed": true
   },
   "outputs": [],
   "source": []
  }
 ],
 "metadata": {
  "kernelspec": {
   "display_name": "Python 3",
   "language": "python",
   "name": "python3"
  },
  "language_info": {
   "codemirror_mode": {
    "name": "ipython",
    "version": 3
   },
   "file_extension": ".py",
   "mimetype": "text/x-python",
   "name": "python",
   "nbconvert_exporter": "python",
   "pygments_lexer": "ipython3",
   "version": "3.5.2"
  }
 },
 "nbformat": 4,
 "nbformat_minor": 2
}
