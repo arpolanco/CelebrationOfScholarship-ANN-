{
 "cells": [
  {
   "cell_type": "code",
   "execution_count": 1,
   "metadata": {
    "collapsed": false,
    "deletable": true,
    "editable": true
   },
   "outputs": [
    {
     "name": "stdout",
     "output_type": "stream",
     "text": [
      "<module 'pandas_datareader' from 'C:\\\\ProgramData\\\\Anaconda3\\\\envs\\\\stocks\\\\lib\\\\site-packages\\\\pandas_datareader\\\\__init__.py'>\n",
      "Populating the interactive namespace from numpy and matplotlib\n",
      "ACTG\n"
     ]
    },
    {
     "name": "stderr",
     "output_type": "stream",
     "text": [
      "C:\\ProgramData\\Anaconda3\\envs\\stocks\\lib\\site-packages\\IPython\\core\\magics\\pylab.py:161: UserWarning: pylab import has clobbered these variables: ['pylab']\n",
      "`%matplotlib` prevents importing * from pylab and numpy\n",
      "  \"\\n`%matplotlib` prevents importing * from pylab and numpy\"\n"
     ]
    },
    {
     "ename": "AttributeError",
     "evalue": "module 'pandas_datareader' has no attribute 'DataReader'",
     "output_type": "error",
     "traceback": [
      "\u001b[1;31m---------------------------------------------------------------------------\u001b[0m",
      "\u001b[1;31mAttributeError\u001b[0m                            Traceback (most recent call last)",
      "\u001b[1;32m<ipython-input-1-3b52bdbfe694>\u001b[0m in \u001b[0;36m<module>\u001b[1;34m()\u001b[0m\n\u001b[0;32m     27\u001b[0m         \u001b[1;32mif\u001b[0m \u001b[0mlen\u001b[0m\u001b[1;33m(\u001b[0m\u001b[0msym\u001b[0m\u001b[1;33m)\u001b[0m \u001b[1;33m<\u001b[0m \u001b[1;36m5\u001b[0m \u001b[1;32mand\u001b[0m \u001b[0msym\u001b[0m\u001b[1;33m[\u001b[0m\u001b[1;36m0\u001b[0m\u001b[1;33m]\u001b[0m \u001b[1;33m==\u001b[0m \u001b[1;34m\"A\"\u001b[0m\u001b[1;33m:\u001b[0m\u001b[1;33m\u001b[0m\u001b[0m\n\u001b[0;32m     28\u001b[0m             \u001b[0mprint\u001b[0m\u001b[1;33m(\u001b[0m\u001b[0msym\u001b[0m\u001b[1;33m)\u001b[0m\u001b[1;33m\u001b[0m\u001b[0m\n\u001b[1;32m---> 29\u001b[1;33m             \u001b[0mL2\u001b[0m\u001b[1;33m.\u001b[0m\u001b[0mappend\u001b[0m\u001b[1;33m(\u001b[0m\u001b[0mweb\u001b[0m\u001b[1;33m.\u001b[0m\u001b[0mDataReader\u001b[0m\u001b[1;33m(\u001b[0m\u001b[0msym\u001b[0m\u001b[1;33m,\u001b[0m \u001b[1;34m\"yahoo\"\u001b[0m\u001b[1;33m,\u001b[0m \u001b[0mstart\u001b[0m\u001b[1;33m,\u001b[0m \u001b[0mend\u001b[0m\u001b[1;33m)\u001b[0m\u001b[1;33m)\u001b[0m\u001b[1;33m\u001b[0m\u001b[0m\n\u001b[0m\u001b[0;32m     30\u001b[0m \u001b[1;31m# Let's get Apple stock data; Apple's ticker symbol is AAPL\u001b[0m\u001b[1;33m\u001b[0m\u001b[1;33m\u001b[0m\u001b[0m\n\u001b[0;32m     31\u001b[0m \u001b[1;31m# First argument is the series we want, second is the source (\"yahoo\" for Yahoo! Finance), third is the start date, fourth is the end date\u001b[0m\u001b[1;33m\u001b[0m\u001b[1;33m\u001b[0m\u001b[0m\n",
      "\u001b[1;31mAttributeError\u001b[0m: module 'pandas_datareader' has no attribute 'DataReader'"
     ]
    }
   ],
   "source": [
    "import pandas as pd\n",
    "import pandas_datareader as web   # Package and modules for importing data; this code may change depending on pandas version\n",
    "import datetime\n",
    "import matplotlib.pyplot as plt   # Import matplotlib\n",
    "import pylab\n",
    "import matplotlib\n",
    "import numpy as np\n",
    "\n",
    "print(web)\n",
    "\n",
    "# This line is necessary for the plot to appear in a Jupyter notebook\n",
    "%matplotlib inline\n",
    "# Control the default size of figures in this Jupyter notebook\n",
    "%pylab inline\n",
    "\n",
    "\n",
    "loadTest = True\n",
    "\n",
    "# We will look at stock prices over the past year, starting at January 1, 2016\n",
    "start = datetime.datetime(2016,1,1)\n",
    "end = datetime.date.today()\n",
    " \n",
    "L = [\"PIH\",\"SHLM\",\"ACTG\",\"AKAO\",\"ADMS\",\"AAAP\",\"AEHR\",\"AGYS\",\"ATSG\",\"AMRI\",\"ALJJ\",\"ALQA\",\"SWIN\",\"AMBA\",\"AETI\",\"CRMT\",\"IBUY\",\"ANDAR\",\"ABAC\",\"AMAT\",\"ARDM\",\"APLP\",\"ARTX\",\"ASNA\",\"ALOT\",\"ACFC\",\"ATRI\",\"ADP\",\"AHPAU\",\"AZRX\",\"BLDP\",\"OZRK\",\"BHACW\",\"BBBY\",\"BGCP\",\"BLRX\",\"BSTC\",\"BBRY\",\"BLBD\",\"BNCN\",\"BPFHP\",\"BLIN\",\"BRKS\",\"CHRW\",\"CLMS\",\"CALA\",\"CPLA\",\"CAPN\",\"CSII\",\"CRTN\",\"CBIO\",\"CDW\",\"CLLS\",\"CSFL\",\"CRNT\",\"CFCOU\",\"CHKP\",\"CMRX\",\"CNIT\",\"IMOS\",\"CMCT\",\"CZFC\",\"CLRO\",\"CNV\",\"CGNX\",\"COLB\",\"CHUBK\",\"CGEN\",\"CFMS\",\"CFRX\",\"CORT\",\"COUP\",\"CRAY\",\"XRDC\",\"CTIC\",\"CVV\",\"CONE\",\"DRIOW\",\"DWSN\",\"DENN\",\"DXTR\",\"DRAD\",\"DISH\",\"DORM\",\"DXPE\",\"EWBC\",\"EBAYL\",\"EDIT\",\"ERI\",\"CAPX\",\"ECPG\",\"ENOC\",\"EGT\",\"ESPR\",\"EVK\",\"EXFO\",\"EZPW\",\"FARO\",\"FGEN\",\"FITBI\",\"BUSE\",\"FFBC\",\"FIBK\",\"FPA\",\"FVC\",\"FTGC\",\"FTC\",\"FAD\",\"CARZ\",\"QTEC\",\"FYC\",\"FUNC\",\"FLKS\",\"FLXS\",\"FORR\",\"FRAN\",\"FSBW\",\"FSNN\",\"GALTU\",\"GENC\",\"GNTX\",\"GIGA\",\"GOODP\",\"GBLI\",\"ACTX\",\"ALTY\",\"GOGL\",\"GPIAW\",\"GPP\",\"GSIT\",\"GURE\",\"HBK\",\"HRMNU\",\"HWBK\",\"HEBT\",\"HTBK\",\"HIHO\",\"HFBL\",\"HRZN\",\"HTGM\",\"HBANP\",\"IBKC\",\"ICUI\",\"INFO\",\"IMNP\",\"IBCP\",\"INNL\",\"INSG\",\"IART\",\"LINK\",\"ISIL\",\"ISBC\",\"DFVS\",\"IRDMB\",\"FALN\",\"EWZS\",\"QAT\",\"IGOV\",\"XXIA\",\"JXSB\",\"JAZZ\",\"WYIG\",\"KALU\",\"KMPH\",\"KGJI\",\"KLREU\",\"KLIC\",\"LAMR\",\"LE\",\"LPTX\",\"LMAT\",\"LBTYA\",\"BATRK\",\"LCUT\",\"LECO\",\"LOB\",\"CNCR\",\"LMNX\",\"MBVX\",\"MNGA\",\"LOAN\",\"MRLN\",\"MAT\",\"MGRC\",\"MDVX\",\"MTSL\",\"MMSI\",\"MGEE\",\"MVIS\",\"MDXG\",\"MITK\",\"MNTA\",\"MSDI\",\"MSBF\",\"MYOS\",\"NSSC\",\"NGHCN\",\"NWLI\",\"NCIT\",\"NETE\",\"NDRM\",\"NEWS\",\"EGOV\",\"NSYS\",\"NWFL\",\"NUAN\",\"NVDA\",\"OBSV\",\"ODP\",\"OSBCP\",\"ONSIZ\",\"OPXAW\",\"OSUR\",\"OACQW\",\"OTTW\",\"PFIN\",\"PPBI\",\"PANL\",\"PKOH\",\"PAVMW\",\"PDFS\",\"PNNT\",\"PRCP\",\"PGLC\",\"PICO\",\"PLUG\",\"PLKI\",\"PSIX\",\"PFI\",\"PUI\",\"KBWB\",\"USLB\",\"VRIG\",\"PRGX\",\"PSC\",\"PRPH\",\"PRTO\",\"PULM\",\"QGEN\",\"QDEL\",\"RADA\",\"RAND\",\"RDI\",\"REPH\",\"RNST\",\"REFR\",\"REXX\",\"RVSB\",\"ROSG\",\"RUTH\",\"SBRAP\",\"SASR\",\"SMIT\",\"SHIP\",\"SNFCA\",\"SENEB\",\"SREV\",\"SHPG\",\"SWIR\",\"SLAB\",\"SVA\",\"SLMBP\",\"SLRC\",\"SPHS\",\"SONA\",\"DWFI\",\"FUND\",\"SBLKL\",\"STLRU\",\"BANX\",\"SCMP\",\"SPWR\",\"SPRT\",\"SYNL\",\"SYPR\",\"TNDM\",\"AMTD\",\"TELL\",\"TSRA\",\"TGTX\",\"DXYN\",\"FITS\",\"NAVG\",\"YORW\",\"TSBK\",\"TISA\",\"TWMC\",\"TRVN\",\"TRNC\",\"TTMI\",\"TRCB\",\"ULBI\",\"UBCP\",\"UBFO\",\"UVSP\",\"VALX\",\"VIGI\",\"VTWV\",\"VBLT\",\"TVIX\",\"VRSN\",\"VSAT\",\"CSF\",\"VKTX\",\"VRTU\",\"VYGR\",\"WFBI\",\"WCST\",\"WBB\",\"WHLRW\",\"WLTW\",\"AGND\",\"GULF\",\"WWD\",\"WVFC\",\"XGTIW\",\"YIN\",\"ZG\",\"ZUMZ\"]\n",
    "if loadTest:\n",
    "    L2 = []\n",
    "    for sym in L:\n",
    "        if len(sym) < 5 and sym[0] == \"A\":\n",
    "            print(sym)\n",
    "            L2.append(web.DataReader(sym, \"yahoo\", start, end))\n",
    "# Let's get Apple stock data; Apple's ticker symbol is AAPL\n",
    "# First argument is the series we want, second is the source (\"yahoo\" for Yahoo! Finance), third is the start date, fourth is the end date\n",
    "apple = web.DataReader(\"AAPL\", \"yahoo\", start, end)\n",
    " \n",
    "type(apple)\n",
    "\n",
    "#print(apple.head())\n",
    "#print(\"Size:\\n\", apple.count())\n",
    "\n",
    "numberDays = 10\n",
    "\n",
    "trainingData = np.random.random((1, numberDays * 6))\n",
    "trainingOutputs = np.random.random((1, 1))\n",
    "\n",
    "for i in range(numberDays):\n",
    "    trainingData[0][i * 6] = apple[\"Open\"][i]\n",
    "    trainingData[0][i * 6 + 1] = apple[\"Close\"][i]\n",
    "    trainingData[0][i * 6 + 2] = apple[\"High\"][i]\n",
    "    trainingData[0][i * 6 + 3] = apple[\"Low\"][i]\n",
    "    trainingData[0][i * 6 + 4] = apple[\"Volume\"][i]\n",
    "    trainingData[0][i * 6 + 5] = apple[\"Adj Close\"][i]\n",
    "i += 1\n",
    "trainingOutputs[0][0] = apple[\"Close\"][i]\n",
    "\n",
    "pylab.rcParams['figure.figsize'] = (15, 9)   # Change the size of plots\n",
    " \n",
    "apple[\"Adj Close\"].plot(grid = True) # Plot the adjusted closing price of AAPL\n",
    "if loadTest:\n",
    "    for data in L2:\n",
    "        data[\"Adj Close\"].plot(grid = True)\n"
   ]
  },
  {
   "cell_type": "code",
   "execution_count": null,
   "metadata": {
    "collapsed": true,
    "deletable": true,
    "editable": true
   },
   "outputs": [],
   "source": []
  },
  {
   "cell_type": "code",
   "execution_count": null,
   "metadata": {
    "collapsed": true,
    "deletable": true,
    "editable": true
   },
   "outputs": [],
   "source": []
  }
 ],
 "metadata": {
  "kernelspec": {
   "display_name": "Python 3",
   "language": "python",
   "name": "python3"
  },
  "language_info": {
   "codemirror_mode": {
    "name": "ipython",
    "version": 3
   },
   "file_extension": ".py",
   "mimetype": "text/x-python",
   "name": "python",
   "nbconvert_exporter": "python",
   "pygments_lexer": "ipython3",
   "version": "3.5.2"
  }
 },
 "nbformat": 4,
 "nbformat_minor": 2
}
